{
 "cells": [
  {
   "cell_type": "code",
   "execution_count": 2,
   "metadata": {},
   "outputs": [],
   "source": [
    "import numpy as np\n",
    "import matplotlib.pyplot as plt"
   ]
  },
  {
   "cell_type": "markdown",
   "metadata": {},
   "source": [
    "# Need to figure out how to integrate the function"
   ]
  },
  {
   "cell_type": "code",
   "execution_count": 3,
   "metadata": {},
   "outputs": [],
   "source": [
    "TARGET_RADIUS = 1.5 * 25.4 # mm\n",
    "TARGET_TILT = 15 * np.pi / 180 # rad\n",
    "SUBSTRATE_RADIUS = 10 # mm\n",
    "TARGET_SPIN_RATE = 1 # per second\n",
    "\n",
    "CHAMBER_VERTICAL = 136\n",
    "CHAMBER_LATERAL = 0"
   ]
  },
  {
   "cell_type": "code",
   "execution_count": 4,
   "metadata": {},
   "outputs": [],
   "source": [
    "def cart_to_polar(x, y):\n",
    "\n",
    "    r = np.sqrt(x**2 + y**2)\n",
    "    phi = np.arctan(y/x)\n",
    "    return r, phi\n",
    "\n",
    "def cylinder_sag(y, RoC):\n",
    "    return -np.sqrt(RoC**2 - y**2) + RoC\n",
    "\n",
    "def cylinder_surface_normal(y, RoC):\n",
    "    denomenator = np.sqrt(RoC**2 - y**2)\n",
    "    xcomp = np.zeros_like(y)\n",
    "    ycomp = y / denomenator\n",
    "    zcomp = np.ones_like(y)\n",
    "\n",
    "    vec = np.array([xcomp, ycomp, zcomp])\n",
    "\n",
    "    if vec.ndim > 1:\n",
    "        for _ in range(vec.ndim - 1):\n",
    "            vec = np.moveaxis(vec,-1,0)\n",
    "\n",
    "    return vec\n",
    "\n",
    "def erosion_profile(a, max_radius):\n",
    "    return np.sin(a * np.pi / max_radius)\n",
    "\n",
    "def target_surface_normal(omega):\n",
    "\n",
    "    xcomp = -np.sin(omega)\n",
    "    ycomp = 0.\n",
    "    zcomp = -np.cos(omega)\n",
    "\n",
    "    return np.array([xcomp, ycomp, zcomp])\n",
    "\n",
    "def distance_to_target(x, y, a, phi, h, l, omega, zfunc, znorm, RoC, spin_rate, t, spin_offset=0):\n",
    "    \"\"\"compute distance from point on target to a point on the substrate\n",
    "\n",
    "    Parameters\n",
    "    ----------\n",
    "    x : float\n",
    "        cartesian point on the substrate\n",
    "    y : float\n",
    "        cartesian point on the substrate\n",
    "    a : float\n",
    "        radial point on the target\n",
    "    phi : float\n",
    "        azimuthal point on the target\n",
    "    h : float\n",
    "        vertical distance from target to substrate\n",
    "    l : float\n",
    "        lateral distance from target to substrate\n",
    "    omega : float\n",
    "        tilt of the target w.r.t. the horizontal axis\n",
    "    zfunc : callable\n",
    "        sag function of the substrate, i.e. sag = zfunc(y, RoC)\n",
    "    znorm : callable\n",
    "        surface normal function of the substrate, i.e. normal = znorm(y, RoC)\n",
    "    RoC : float\n",
    "        Radius of curvature of the substrate\n",
    "    spin_rate : float\n",
    "        angular frequency of the substrate rotation\n",
    "    t : float\n",
    "        time in seconds\n",
    "    spin_offset : float\n",
    "        substrate angular offset from alignment to the target axis of lateral displacement\n",
    "    \"\"\"\n",
    "\n",
    "    r = np.sqrt(x**2 + y**2)\n",
    "    cosphi = np.cos(phi)\n",
    "    sinphi = np.cos(phi)\n",
    "    cosomega = np.cos(omega)\n",
    "    sinomega = np.sin(omega)\n",
    "\n",
    "    z = zfunc(y, RoC)\n",
    "    ns = znorm(y, RoC)\n",
    "    ns /= np.sqrt(np.sum(ns * ns, axis=-1))[..., np.newaxis]\n",
    "\n",
    "    nt = target_surface_normal(omega)\n",
    "    nt /= np.sqrt(np.sum(nt * nt))\n",
    "\n",
    "    xcomp = r * np.cos(spin_rate*t + spin_offset) - l\n",
    "    xcomp -= a * cosphi * cosomega\n",
    "\n",
    "    ycomp = r * np.sin(spin_rate*t + spin_offset) - a * sinphi\n",
    "\n",
    "    zcomp = a * cosphi * cosomega \n",
    "    zcomp -= h - z\n",
    "\n",
    "    vec = np.array([xcomp, ycomp, zcomp])\n",
    "\n",
    "    if vec.ndim > 1:\n",
    "        for _ in range(vec.ndim - 1):\n",
    "            vec = np.moveaxis(vec,-1,0)\n",
    "\n",
    "    return vec"
   ]
  },
  {
   "cell_type": "code",
   "execution_count": 8,
   "metadata": {},
   "outputs": [],
   "source": [
    "# Target geometry\n",
    "u = np.linspace(-TARGET_RADIUS, TARGET_RADIUS)\n",
    "u, v = np.meshgrid(u, u)\n",
    "a, phi = cart_to_polar(u, v)\n",
    "\n",
    "# Substrate geometry\n",
    "x = np.linspace(-SUBSTRATE_RADIUS, SUBSTRATE_RADIUS)\n",
    "x, y = np.meshgrid(x, x)\n",
    "RoC = 1e20"
   ]
  },
  {
   "cell_type": "code",
   "execution_count": 9,
   "metadata": {},
   "outputs": [],
   "source": [
    "times = np.linspace(0,100,10)\n",
    "mass_collision = 0\n",
    "\n",
    "for t in times:\n",
    "\n",
    "    # get erosion profile\n",
    "    eps = erosion_profile(a, TARGET_RADIUS)\n",
    "\n",
    "    # get target distance\n",
    "    R = distance_to_target(x, y, a, phi,\n",
    "                           h=CHAMBER_VERTICAL,\n",
    "                           l=CHAMBER_LATERAL,\n",
    "                           omega=TARGET_TILT,\n",
    "                           zfunc=cylinder_sag,\n",
    "                           znorm=cylinder_surface_normal,\n",
    "                           RoC=RoC,\n",
    "                           spin_rate=TARGET_SPIN_RATE,\n",
    "                           t=t)\n",
    "    \n",
    "    norm = np.sum(R * R, axis=-1)\n",
    "    eps /= norm\n",
    "\n",
    "    # get distance direction\n",
    "    Rnorm = R / np.sqrt(norm)[..., np.newaxis]\n",
    "\n",
    "    # get surface normal directions\n",
    "    ns = cylinder_surface_normal(y, RoC)\n",
    "    ns /= np.sqrt(np.sum(ns * ns, axis=-1))[..., np.newaxis]\n",
    "\n",
    "    # get target normal directions\n",
    "    nt = target_surface_normal(TARGET_TILT)\n",
    "    nt /= np.sqrt(np.sum(nt * nt))\n",
    "\n",
    "    target_dot_distance = np.sum(nt * Rnorm, axis=-1)\n",
    "    surface_dot_distance = -1 * np.sum(ns * Rnorm, axis=-1)\n",
    "\n",
    "    mass_collision += eps * target_dot_distance * surface_dot_distance * a\n",
    "\n"
   ]
  },
  {
   "cell_type": "code",
   "execution_count": 10,
   "metadata": {},
   "outputs": [
    {
     "data": {
      "image/png": "[encoded data removed]",
      "text/plain": [
       "<Figure size 640x480 with 2 Axes>"
      ]
     },
     "metadata": {},
     "output_type": "display_data"
    }
   ],
   "source": [
    "plt.imshow(mass_collision)\n",
    "plt.colorbar()\n",
    "plt.show()"
   ]
  },
  {
   "cell_type": "code",
   "execution_count": null,
   "metadata": {},
   "outputs": [],
   "source": []
  }
 ],
 "metadata": {
  "kernelspec": {
   "display_name": "Python 3",
   "language": "python",
   "name": "python3"
  },
  "language_info": {
   "codemirror_mode": {
    "name": "ipython",
    "version": 3
   },
   "file_extension": ".py",
   "mimetype": "text/x-python",
   "name": "python",
   "nbconvert_exporter": "python",
   "pygments_lexer": "ipython3",
   "version": "3.11.5"
  }
 },
 "nbformat": 4,
 "nbformat_minor": 2
}
